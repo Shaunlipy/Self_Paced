{
 "cells": [
  {
   "cell_type": "markdown",
   "metadata": {},
   "source": [
    "# Week 3\n",
    "weekly practice from The Math of Intelligence by Siraj Raval"
   ]
  },
  {
   "cell_type": "code",
   "execution_count": 2,
   "metadata": {
    "collapsed": true
   },
   "outputs": [],
   "source": [
    "from scipy.optimize import newton\n",
    "from sklearn.utils.testing import assert_almost_equal"
   ]
  },
  {
   "cell_type": "code",
   "execution_count": 3,
   "metadata": {
    "collapsed": true
   },
   "outputs": [],
   "source": [
    "# f(x) = 6x^5 - 5x^4 -4x^3 + 3x^2\n",
    "def f(x):\n",
    "    return 6 * x**5 - 5 * x**4 - 4 * x**3 + 3 * x**2"
   ]
  },
  {
   "cell_type": "code",
   "execution_count": 4,
   "metadata": {
    "collapsed": true
   },
   "outputs": [],
   "source": [
    "# derivative\n",
    "def df(x):\n",
    "    return 30 * x**4 - 20 * x**3 - 12 * x**2 + 6 * x"
   ]
  },
  {
   "cell_type": "code",
   "execution_count": 5,
   "metadata": {
    "collapsed": true
   },
   "outputs": [],
   "source": [
    "def dx(f, x):\n",
    "    return abs(0 - f(x))"
   ]
  },
  {
   "cell_type": "code",
   "execution_count": 6,
   "metadata": {
    "collapsed": true
   },
   "outputs": [],
   "source": [
    "def newtons_method(f, df, x0, e, print_res=False):\n",
    "    delta = dx(f, x0)\n",
    "    while delta > e:\n",
    "        x0 = x0 - f(x0) / df(x0) # find the new x of the tangent line cross x axis\n",
    "        delta = dx(f, x0)\n",
    "    if print_res:\n",
    "        print ('Root is at: ', x0)\n",
    "        print ('f(x) at root is: ', f(x0))\n",
    "    return x0"
   ]
  },
  {
   "cell_type": "code",
   "execution_count": 8,
   "metadata": {
    "collapsed": false
   },
   "outputs": [],
   "source": [
    "def test_with_scipy(f, df, x0s, e):\n",
    "    for x0 in x0s:\n",
    "        my_newton = newtons_method(f, df, x0, e)\n",
    "        scipy_newton = newton(f, x0, df, tol=e)\n",
    "        assert_almost_equal(my_newton, scipy_newton, decimal=5)\n",
    "        print ('Test passed.')"
   ]
  },
  {
   "cell_type": "code",
   "execution_count": 9,
   "metadata": {
    "collapsed": false
   },
   "outputs": [
    {
     "name": "stdout",
     "output_type": "stream",
     "text": [
      "Test passed.\n",
      "Test passed.\n",
      "Test passed.\n",
      "Root is at:  0\n",
      "f(x) at root is:  0\n",
      "Root is at:  0.6286669787778999\n",
      "f(x) at root is:  -1.8043344596208044e-12\n",
      "Root is at:  1\n",
      "f(x) at root is:  0\n"
     ]
    },
    {
     "name": "stderr",
     "output_type": "stream",
     "text": [
      "/Users/shaun/anaconda/lib/python3.6/site-packages/scipy/optimize/zeros.py:142: RuntimeWarning: derivative was zero.\n",
      "  warnings.warn(msg, RuntimeWarning)\n"
     ]
    }
   ],
   "source": [
    "if __name__ == '__main__':\n",
    "    x0s = [0, 0.5, 1]\n",
    "    test_with_scipy(f, df, x0s, 1e-5)\n",
    "    \n",
    "    for x0 in x0s:\n",
    "        newtons_method(f, df, x0, 1e-10, True)"
   ]
  },
  {
   "cell_type": "code",
   "execution_count": null,
   "metadata": {
    "collapsed": true
   },
   "outputs": [],
   "source": []
  }
 ],
 "metadata": {
  "kernelspec": {
   "display_name": "Python 3",
   "language": "python",
   "name": "python3"
  },
  "language_info": {
   "codemirror_mode": {
    "name": "ipython",
    "version": 3
   },
   "file_extension": ".py",
   "mimetype": "text/x-python",
   "name": "python",
   "nbconvert_exporter": "python",
   "pygments_lexer": "ipython3",
   "version": "3.6.0"
  }
 },
 "nbformat": 4,
 "nbformat_minor": 2
}
