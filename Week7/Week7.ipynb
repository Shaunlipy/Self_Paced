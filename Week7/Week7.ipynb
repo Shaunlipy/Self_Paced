{
 "cells": [
  {
   "cell_type": "markdown",
   "metadata": {},
   "source": [
    "# Week 7\n",
    "weekly practice from The Math of Intelligence by Siraj Raval"
   ]
  },
  {
   "cell_type": "code",
   "execution_count": 1,
   "metadata": {
    "collapsed": true
   },
   "outputs": [],
   "source": [
    "import numpy as np"
   ]
  },
  {
   "cell_type": "code",
   "execution_count": 2,
   "metadata": {
    "collapsed": false
   },
   "outputs": [
    {
     "name": "stdout",
     "output_type": "stream",
     "text": [
      "[[0 0 1]\n",
      " [0 1 1]\n",
      " [1 0 1]\n",
      " [1 1 1]]\n",
      "[[0]\n",
      " [1]\n",
      " [1]\n",
      " [0]]\n"
     ]
    }
   ],
   "source": [
    "# Input data\n",
    "input_data = np.array([[0, 0, 1],\n",
    "                      [0, 1, 1],\n",
    "                      [1, 0, 1],\n",
    "                      [1, 1, 1]])\n",
    "\n",
    "output_labels = np.array([[0],\n",
    "                          [1],\n",
    "                          [1],\n",
    "                          [0]])\n",
    "\n",
    "print (input_data)\n",
    "print (output_labels)"
   ]
  },
  {
   "cell_type": "code",
   "execution_count": 10,
   "metadata": {
    "collapsed": true
   },
   "outputs": [],
   "source": [
    "# Sigmoid function\n",
    "def activate(x, deriv=False):\n",
    "    if deriv == True:\n",
    "        return x*(1-x)\n",
    "    return 1 / (1 + np.exp(-x))"
   ]
  },
  {
   "cell_type": "code",
   "execution_count": 12,
   "metadata": {
    "collapsed": false
   },
   "outputs": [
    {
     "name": "stdout",
     "output_type": "stream",
     "text": [
      "[[ 0.82318999  0.60663747 -0.58374882  0.01221574]\n",
      " [ 0.53178562 -0.09152426  0.54774698 -0.07761618]\n",
      " [-0.77775527  0.72917137 -0.83122391 -0.51428966]]\n",
      "[[ 0.54322457]\n",
      " [-0.73133007]\n",
      " [ 0.15035655]\n",
      " [ 0.2146566 ]]\n"
     ]
    }
   ],
   "source": [
    "# Weight values\n",
    "synaptic_weight_0 = 2 * np.random.random((3, 4)) - 1\n",
    "synaptic_weight_1 = 2 * np.random.random((4, 1)) - 1\n",
    "\n",
    "print (synaptic_weight_0)\n",
    "print (synaptic_weight_1)"
   ]
  },
  {
   "cell_type": "code",
   "execution_count": 13,
   "metadata": {
    "collapsed": false
   },
   "outputs": [
    {
     "name": "stdout",
     "output_type": "stream",
     "text": [
      "Error: 0.499706796748\n",
      "Error: 0.0102590110718\n",
      "Error: 0.00704077818238\n",
      "Error: 0.00566997522495\n",
      "Error: 0.00486779062147\n",
      "Error: 0.00432670387838\n"
     ]
    }
   ],
   "source": [
    "for j in range(60000):\n",
    "    # Forward propagate through layers 0, 1, 2\n",
    "    layer_0 = input_data\n",
    "    layer_1 = activate(np.dot(layer_0, synaptic_weight_0))\n",
    "    layer_2 = activate(np.dot(layer_1, synaptic_weight_1))\n",
    "    \n",
    "    # Calculate error for layer 2\n",
    "    layer_2_error = output_labels - layer_2\n",
    "    \n",
    "    # For printing some results\n",
    "    if (j % 10000) == 0: \n",
    "        print (\"Error: \" + str(np.mean(np.abs(layer_2_error))))\n",
    "    \n",
    "    # Compute gradient\n",
    "    layer_2_gradient = layer_2_error * activate(layer_2, deriv=True)\n",
    "    \n",
    "    # Calculate error for layer 1\n",
    "    layer_1_error = layer_2_gradient.dot(synaptic_weight_1.T)\n",
    "    \n",
    "    # Compute gradient\n",
    "    layer_1_gradient = layer_1_error * activate(layer_1, deriv=True)\n",
    "    \n",
    "    # Update the weights using the gradients\n",
    "    synaptic_weight_1 += layer_1.T.dot(layer_2_gradient)\n",
    "    synaptic_weight_0 += layer_0.T.dot(layer_1_gradient)"
   ]
  },
  {
   "cell_type": "code",
   "execution_count": 16,
   "metadata": {
    "collapsed": false
   },
   "outputs": [
    {
     "name": "stdout",
     "output_type": "stream",
     "text": [
      "[  9.74834127e-01   4.48690293e-02   5.20082773e-01   1.59372994e-04]\n"
     ]
    }
   ],
   "source": [
    "test_1 = activate(np.dot(np.array([0, 1, 1]), synaptic_weight_0))\n",
    "print (test_1)"
   ]
  },
  {
   "cell_type": "code",
   "execution_count": 18,
   "metadata": {
    "collapsed": false
   },
   "outputs": [
    {
     "name": "stdout",
     "output_type": "stream",
     "text": [
      "[ 0.99594418]\n"
     ]
    }
   ],
   "source": [
    "test_2 = (activate(np.dot(test_1, synaptic_weight_1)))\n",
    "print (test_2)"
   ]
  },
  {
   "cell_type": "code",
   "execution_count": null,
   "metadata": {
    "collapsed": true
   },
   "outputs": [],
   "source": []
  }
 ],
 "metadata": {
  "kernelspec": {
   "display_name": "Python 3",
   "language": "python",
   "name": "python3"
  },
  "language_info": {
   "codemirror_mode": {
    "name": "ipython",
    "version": 3
   },
   "file_extension": ".py",
   "mimetype": "text/x-python",
   "name": "python",
   "nbconvert_exporter": "python",
   "pygments_lexer": "ipython3",
   "version": "3.6.0"
  }
 },
 "nbformat": 4,
 "nbformat_minor": 2
}
